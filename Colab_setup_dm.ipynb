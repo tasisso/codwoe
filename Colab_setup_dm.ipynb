{
 "cells": [
  {
   "cell_type": "markdown",
   "metadata": {
    "id": "IvxJOJu4XUIW"
   },
   "source": [
    "### Step 1: Mount the Google Drive\n",
    "\n",
    "Remember to use GPU runtime before mounting your Google Drive. (Runtime --> Change runtime type)."
   ]
  },
  {
   "cell_type": "code",
   "execution_count": null,
   "metadata": {
    "colab": {
     "base_uri": "https://localhost:8080/"
    },
    "executionInfo": {
     "elapsed": 1127,
     "status": "ok",
     "timestamp": 1740633313832,
     "user": {
      "displayName": "Demetri Nicolaou",
      "userId": "06868073424147917136"
     },
     "user_tz": 480
    },
    "id": "SCSU4HrvkVDq",
    "outputId": "194416f5-7a47-46d6-c2f2-da4ba46f134a"
   },
   "outputs": [
    {
     "name": "stdout",
     "output_type": "stream",
     "text": [
      "Drive already mounted at /content/drive; to attempt to forcibly remount, call drive.mount(\"/content/drive\", force_remount=True).\n"
     ]
    }
   ],
   "source": [
    "from google.colab import drive\n",
    "drive.mount('/content/drive')"
   ]
  },
  {
   "cell_type": "markdown",
   "metadata": {
    "id": "FyoSL1U8Xbjh"
   },
   "source": [
    "### Step 2: Open the project directory\n",
    "\n",
    "Replace `Your_Dir` with your own path."
   ]
  },
  {
   "cell_type": "code",
   "execution_count": 2,
   "metadata": {
    "colab": {
     "base_uri": "https://localhost:8080/"
    },
    "executionInfo": {
     "elapsed": 45,
     "status": "ok",
     "timestamp": 1740633313878,
     "user": {
      "displayName": "Demetri Nicolaou",
      "userId": "06868073424147917136"
     },
     "user_tz": 480
    },
    "id": "-gfQ17SmkfOK",
    "outputId": "21da7565-1efa-4cb4-d117-cb84b01919c2"
   },
   "outputs": [
    {
     "name": "stdout",
     "output_type": "stream",
     "text": [
      "/content/drive/Othercomputers/My MacBook Pro/emg2qwerty\n"
     ]
    }
   ],
   "source": [
    "cd drive/Othercomputers/'My MacBook Pro'/emg2qwerty/"
   ]
  },
  {
   "cell_type": "markdown",
   "metadata": {
    "id": "eTzYfAOEYN4C"
   },
   "source": [
    "### Step 3: Install required packages\n",
    "\n",
    "After installing them, Colab will require you to restart the session."
   ]
  },
  {
   "cell_type": "code",
   "execution_count": 3,
   "metadata": {
    "colab": {
     "base_uri": "https://localhost:8080/"
    },
    "executionInfo": {
     "elapsed": 19308,
     "status": "ok",
     "timestamp": 1740633333188,
     "user": {
      "displayName": "Demetri Nicolaou",
      "userId": "06868073424147917136"
     },
     "user_tz": 480
    },
    "id": "HFFKvhs4tAp5",
    "outputId": "cc537652-47bb-4c2f-f4d2-89aa1db0c9fa"
   },
   "outputs": [
    {
     "name": "stdout",
     "output_type": "stream",
     "text": [
      "Collecting git+https://github.com/stepanhruda/camel-kenlm.git@a6e906b2b30497dd999cb9c84c42c5111f8616e0 (from -r requirements.txt (line 31))\n",
      "  Cloning https://github.com/stepanhruda/camel-kenlm.git (to revision a6e906b2b30497dd999cb9c84c42c5111f8616e0) to /tmp/pip-req-build-nu86nt7v\n",
      "  Running command git clone --filter=blob:none --quiet https://github.com/stepanhruda/camel-kenlm.git /tmp/pip-req-build-nu86nt7v\n",
      "  Running command git rev-parse -q --verify 'sha^a6e906b2b30497dd999cb9c84c42c5111f8616e0'\n",
      "  Running command git fetch -q https://github.com/stepanhruda/camel-kenlm.git a6e906b2b30497dd999cb9c84c42c5111f8616e0\n",
      "  Running command git checkout -q a6e906b2b30497dd999cb9c84c42c5111f8616e0\n",
      "  Resolved https://github.com/stepanhruda/camel-kenlm.git to commit a6e906b2b30497dd999cb9c84c42c5111f8616e0\n",
      "  Installing build dependencies ... \u001b[?25l\u001b[?25hdone\n",
      "  Getting requirements to build wheel ... \u001b[?25l\u001b[?25hdone\n",
      "  Preparing metadata (pyproject.toml) ... \u001b[?25l\u001b[?25hdone\n",
      "Requirement already satisfied: click==8.1.7 in /usr/local/lib/python3.11/dist-packages (from -r requirements.txt (line 1)) (8.1.7)\n",
      "Requirement already satisfied: datasets==2.19.2 in /usr/local/lib/python3.11/dist-packages (from -r requirements.txt (line 2)) (2.19.2)\n",
      "Requirement already satisfied: h5py==3.11.0 in /usr/local/lib/python3.11/dist-packages (from -r requirements.txt (line 3)) (3.11.0)\n",
      "Requirement already satisfied: hydra-core==1.3.2 in /usr/local/lib/python3.11/dist-packages (from -r requirements.txt (line 4)) (1.3.2)\n",
      "Requirement already satisfied: hydra-submitit-launcher==1.2.0 in /usr/local/lib/python3.11/dist-packages (from -r requirements.txt (line 5)) (1.2.0)\n",
      "Requirement already satisfied: hypothesis==6.97.6 in /usr/local/lib/python3.11/dist-packages (from -r requirements.txt (line 6)) (6.97.6)\n",
      "Requirement already satisfied: lightning-bolts==0.7.0 in /usr/local/lib/python3.11/dist-packages (from -r requirements.txt (line 7)) (0.7.0)\n",
      "Requirement already satisfied: mne-bids==0.15.0 in /usr/local/lib/python3.11/dist-packages (from -r requirements.txt (line 8)) (0.15.0)\n",
      "Requirement already satisfied: nltk==3.8.1 in /usr/local/lib/python3.11/dist-packages (from -r requirements.txt (line 9)) (3.8.1)\n",
      "Requirement already satisfied: numpy==1.24.4 in /usr/local/lib/python3.11/dist-packages (from -r requirements.txt (line 10)) (1.24.4)\n",
      "Requirement already satisfied: omegaconf==2.3.0 in /usr/local/lib/python3.11/dist-packages (from -r requirements.txt (line 11)) (2.3.0)\n",
      "Requirement already satisfied: pandas==2.0.3 in /usr/local/lib/python3.11/dist-packages (from -r requirements.txt (line 12)) (2.0.3)\n",
      "Requirement already satisfied: pip==24.0 in /usr/local/lib/python3.11/dist-packages (from -r requirements.txt (line 13)) (24.0)\n",
      "Requirement already satisfied: pre-commit==3.7.1 in /usr/local/lib/python3.11/dist-packages (from -r requirements.txt (line 14)) (3.7.1)\n",
      "Requirement already satisfied: pytest-benchmark==4.0.0 in /usr/local/lib/python3.11/dist-packages (from -r requirements.txt (line 15)) (4.0.0)\n",
      "Requirement already satisfied: pytest-cov==5.0.0 in /usr/local/lib/python3.11/dist-packages (from -r requirements.txt (line 16)) (5.0.0)\n",
      "Requirement already satisfied: pytest-env==1.1.3 in /usr/local/lib/python3.11/dist-packages (from -r requirements.txt (line 17)) (1.1.3)\n",
      "Requirement already satisfied: pytest-mock==3.14.0 in /usr/local/lib/python3.11/dist-packages (from -r requirements.txt (line 18)) (3.14.0)\n",
      "Requirement already satisfied: pytest-rerunfailures==14.0 in /usr/local/lib/python3.11/dist-packages (from -r requirements.txt (line 19)) (14.0)\n",
      "Requirement already satisfied: pytest-xdist==3.5.0 in /usr/local/lib/python3.11/dist-packages (from pytest-xdist[psutil]==3.5.0->-r requirements.txt (line 20)) (3.5.0)\n",
      "Requirement already satisfied: pytest==7.4.4 in /usr/local/lib/python3.11/dist-packages (from -r requirements.txt (line 21)) (7.4.4)\n",
      "Requirement already satisfied: python-levenshtein==0.12.2 in /usr/local/lib/python3.11/dist-packages (from -r requirements.txt (line 22)) (0.12.2)\n",
      "Requirement already satisfied: pytorch-lightning==1.8.6 in /usr/local/lib/python3.11/dist-packages (from -r requirements.txt (line 23)) (1.8.6)\n",
      "Requirement already satisfied: torch==2.3.0 in /usr/local/lib/python3.11/dist-packages (from -r requirements.txt (line 24)) (2.3.0)\n",
      "Requirement already satisfied: scipy==1.10.1 in /usr/local/lib/python3.11/dist-packages (from -r requirements.txt (line 25)) (1.10.1)\n",
      "Requirement already satisfied: setuptools==69.5.1 in /usr/local/lib/python3.11/dist-packages (from -r requirements.txt (line 26)) (69.5.1)\n",
      "Requirement already satisfied: torchaudio==2.3.0 in /usr/local/lib/python3.11/dist-packages (from -r requirements.txt (line 27)) (2.3.0)\n",
      "Requirement already satisfied: torchmetrics==0.11.4 in /usr/local/lib/python3.11/dist-packages (from -r requirements.txt (line 28)) (0.11.4)\n",
      "Requirement already satisfied: trio==0.23.2 in /usr/local/lib/python3.11/dist-packages (from -r requirements.txt (line 29)) (0.23.2)\n",
      "Requirement already satisfied: unidecode==1.3.8 in /usr/local/lib/python3.11/dist-packages (from -r requirements.txt (line 30)) (1.3.8)\n",
      "Requirement already satisfied: filelock in /usr/local/lib/python3.11/dist-packages (from datasets==2.19.2->-r requirements.txt (line 2)) (3.17.0)\n",
      "Requirement already satisfied: pyarrow>=12.0.0 in /usr/local/lib/python3.11/dist-packages (from datasets==2.19.2->-r requirements.txt (line 2)) (18.1.0)\n",
      "Requirement already satisfied: pyarrow-hotfix in /usr/local/lib/python3.11/dist-packages (from datasets==2.19.2->-r requirements.txt (line 2)) (0.6)\n",
      "Requirement already satisfied: dill<0.3.9,>=0.3.0 in /usr/local/lib/python3.11/dist-packages (from datasets==2.19.2->-r requirements.txt (line 2)) (0.3.8)\n",
      "Requirement already satisfied: requests>=2.32.1 in /usr/local/lib/python3.11/dist-packages (from datasets==2.19.2->-r requirements.txt (line 2)) (2.32.3)\n",
      "Requirement already satisfied: tqdm>=4.62.1 in /usr/local/lib/python3.11/dist-packages (from datasets==2.19.2->-r requirements.txt (line 2)) (4.67.1)\n",
      "Requirement already satisfied: xxhash in /usr/local/lib/python3.11/dist-packages (from datasets==2.19.2->-r requirements.txt (line 2)) (3.5.0)\n",
      "Requirement already satisfied: multiprocess in /usr/local/lib/python3.11/dist-packages (from datasets==2.19.2->-r requirements.txt (line 2)) (0.70.16)\n",
      "Requirement already satisfied: fsspec<=2024.3.1,>=2023.1.0 in /usr/local/lib/python3.11/dist-packages (from fsspec[http]<=2024.3.1,>=2023.1.0->datasets==2.19.2->-r requirements.txt (line 2)) (2024.3.1)\n",
      "Requirement already satisfied: aiohttp in /usr/local/lib/python3.11/dist-packages (from datasets==2.19.2->-r requirements.txt (line 2)) (3.11.12)\n",
      "Requirement already satisfied: huggingface-hub>=0.21.2 in /usr/local/lib/python3.11/dist-packages (from datasets==2.19.2->-r requirements.txt (line 2)) (0.28.1)\n",
      "Requirement already satisfied: packaging in /usr/local/lib/python3.11/dist-packages (from datasets==2.19.2->-r requirements.txt (line 2)) (24.2)\n",
      "Requirement already satisfied: pyyaml>=5.1 in /usr/local/lib/python3.11/dist-packages (from datasets==2.19.2->-r requirements.txt (line 2)) (6.0.2)\n",
      "Requirement already satisfied: antlr4-python3-runtime==4.9.* in /usr/local/lib/python3.11/dist-packages (from hydra-core==1.3.2->-r requirements.txt (line 4)) (4.9.3)\n",
      "Requirement already satisfied: submitit>=1.3.3 in /usr/local/lib/python3.11/dist-packages (from hydra-submitit-launcher==1.2.0->-r requirements.txt (line 5)) (1.5.2)\n",
      "Requirement already satisfied: attrs>=22.2.0 in /usr/local/lib/python3.11/dist-packages (from hypothesis==6.97.6->-r requirements.txt (line 6)) (25.1.0)\n",
      "Requirement already satisfied: sortedcontainers<3.0.0,>=2.1.0 in /usr/local/lib/python3.11/dist-packages (from hypothesis==6.97.6->-r requirements.txt (line 6)) (2.4.0)\n",
      "Requirement already satisfied: lightning-utilities>0.3.1 in /usr/local/lib/python3.11/dist-packages (from lightning-bolts==0.7.0->-r requirements.txt (line 7)) (0.12.0)\n",
      "Requirement already satisfied: torchvision>=0.10.0 in /usr/local/lib/python3.11/dist-packages (from lightning-bolts==0.7.0->-r requirements.txt (line 7)) (0.18.0)\n",
      "Requirement already satisfied: tensorboard>=2.9.1 in /usr/local/lib/python3.11/dist-packages (from lightning-bolts==0.7.0->-r requirements.txt (line 7)) (2.18.0)\n",
      "Requirement already satisfied: mne>=1.5 in /usr/local/lib/python3.11/dist-packages (from mne-bids==0.15.0->-r requirements.txt (line 8)) (1.9.0)\n",
      "Requirement already satisfied: joblib in /usr/local/lib/python3.11/dist-packages (from nltk==3.8.1->-r requirements.txt (line 9)) (1.4.2)\n",
      "Requirement already satisfied: regex>=2021.8.3 in /usr/local/lib/python3.11/dist-packages (from nltk==3.8.1->-r requirements.txt (line 9)) (2024.11.6)\n",
      "Requirement already satisfied: python-dateutil>=2.8.2 in /usr/local/lib/python3.11/dist-packages (from pandas==2.0.3->-r requirements.txt (line 12)) (2.8.2)\n",
      "Requirement already satisfied: pytz>=2020.1 in /usr/local/lib/python3.11/dist-packages (from pandas==2.0.3->-r requirements.txt (line 12)) (2025.1)\n",
      "Requirement already satisfied: tzdata>=2022.1 in /usr/local/lib/python3.11/dist-packages (from pandas==2.0.3->-r requirements.txt (line 12)) (2025.1)\n",
      "Requirement already satisfied: cfgv>=2.0.0 in /usr/local/lib/python3.11/dist-packages (from pre-commit==3.7.1->-r requirements.txt (line 14)) (3.4.0)\n",
      "Requirement already satisfied: identify>=1.0.0 in /usr/local/lib/python3.11/dist-packages (from pre-commit==3.7.1->-r requirements.txt (line 14)) (2.6.8)\n",
      "Requirement already satisfied: nodeenv>=0.11.1 in /usr/local/lib/python3.11/dist-packages (from pre-commit==3.7.1->-r requirements.txt (line 14)) (1.9.1)\n",
      "Requirement already satisfied: virtualenv>=20.10.0 in /usr/local/lib/python3.11/dist-packages (from pre-commit==3.7.1->-r requirements.txt (line 14)) (20.29.2)\n",
      "Requirement already satisfied: py-cpuinfo in /usr/local/lib/python3.11/dist-packages (from pytest-benchmark==4.0.0->-r requirements.txt (line 15)) (9.0.0)\n",
      "Requirement already satisfied: coverage>=5.2.1 in /usr/local/lib/python3.11/dist-packages (from coverage[toml]>=5.2.1->pytest-cov==5.0.0->-r requirements.txt (line 16)) (7.6.12)\n",
      "Requirement already satisfied: execnet>=1.1 in /usr/local/lib/python3.11/dist-packages (from pytest-xdist==3.5.0->pytest-xdist[psutil]==3.5.0->-r requirements.txt (line 20)) (2.1.1)\n",
      "Requirement already satisfied: iniconfig in /usr/local/lib/python3.11/dist-packages (from pytest==7.4.4->-r requirements.txt (line 21)) (2.0.0)\n",
      "Requirement already satisfied: pluggy<2.0,>=0.12 in /usr/local/lib/python3.11/dist-packages (from pytest==7.4.4->-r requirements.txt (line 21)) (1.5.0)\n",
      "Requirement already satisfied: tensorboardX>=2.2 in /usr/local/lib/python3.11/dist-packages (from pytorch-lightning==1.8.6->-r requirements.txt (line 23)) (2.6.2.2)\n",
      "Requirement already satisfied: typing-extensions>=4.0.0 in /usr/local/lib/python3.11/dist-packages (from pytorch-lightning==1.8.6->-r requirements.txt (line 23)) (4.12.2)\n",
      "Requirement already satisfied: sympy in /usr/local/lib/python3.11/dist-packages (from torch==2.3.0->-r requirements.txt (line 24)) (1.13.1)\n",
      "Requirement already satisfied: networkx in /usr/local/lib/python3.11/dist-packages (from torch==2.3.0->-r requirements.txt (line 24)) (3.4.2)\n",
      "Requirement already satisfied: jinja2 in /usr/local/lib/python3.11/dist-packages (from torch==2.3.0->-r requirements.txt (line 24)) (3.1.5)\n",
      "Requirement already satisfied: nvidia-cuda-nvrtc-cu12==12.1.105 in /usr/local/lib/python3.11/dist-packages (from torch==2.3.0->-r requirements.txt (line 24)) (12.1.105)\n",
      "Requirement already satisfied: nvidia-cuda-runtime-cu12==12.1.105 in /usr/local/lib/python3.11/dist-packages (from torch==2.3.0->-r requirements.txt (line 24)) (12.1.105)\n",
      "Requirement already satisfied: nvidia-cuda-cupti-cu12==12.1.105 in /usr/local/lib/python3.11/dist-packages (from torch==2.3.0->-r requirements.txt (line 24)) (12.1.105)\n",
      "Requirement already satisfied: nvidia-cudnn-cu12==8.9.2.26 in /usr/local/lib/python3.11/dist-packages (from torch==2.3.0->-r requirements.txt (line 24)) (8.9.2.26)\n",
      "Requirement already satisfied: nvidia-cublas-cu12==12.1.3.1 in /usr/local/lib/python3.11/dist-packages (from torch==2.3.0->-r requirements.txt (line 24)) (12.1.3.1)\n",
      "Requirement already satisfied: nvidia-cufft-cu12==11.0.2.54 in /usr/local/lib/python3.11/dist-packages (from torch==2.3.0->-r requirements.txt (line 24)) (11.0.2.54)\n",
      "Requirement already satisfied: nvidia-curand-cu12==10.3.2.106 in /usr/local/lib/python3.11/dist-packages (from torch==2.3.0->-r requirements.txt (line 24)) (10.3.2.106)\n",
      "Requirement already satisfied: nvidia-cusolver-cu12==11.4.5.107 in /usr/local/lib/python3.11/dist-packages (from torch==2.3.0->-r requirements.txt (line 24)) (11.4.5.107)\n",
      "Requirement already satisfied: nvidia-cusparse-cu12==12.1.0.106 in /usr/local/lib/python3.11/dist-packages (from torch==2.3.0->-r requirements.txt (line 24)) (12.1.0.106)\n",
      "Requirement already satisfied: nvidia-nccl-cu12==2.20.5 in /usr/local/lib/python3.11/dist-packages (from torch==2.3.0->-r requirements.txt (line 24)) (2.20.5)\n",
      "Requirement already satisfied: nvidia-nvtx-cu12==12.1.105 in /usr/local/lib/python3.11/dist-packages (from torch==2.3.0->-r requirements.txt (line 24)) (12.1.105)\n",
      "Requirement already satisfied: triton==2.3.0 in /usr/local/lib/python3.11/dist-packages (from torch==2.3.0->-r requirements.txt (line 24)) (2.3.0)\n",
      "Requirement already satisfied: idna in /usr/local/lib/python3.11/dist-packages (from trio==0.23.2->-r requirements.txt (line 29)) (3.10)\n",
      "Requirement already satisfied: outcome in /usr/local/lib/python3.11/dist-packages (from trio==0.23.2->-r requirements.txt (line 29)) (1.3.0.post0)\n",
      "Requirement already satisfied: sniffio>=1.3.0 in /usr/local/lib/python3.11/dist-packages (from trio==0.23.2->-r requirements.txt (line 29)) (1.3.1)\n",
      "Requirement already satisfied: psutil>=3.0 in /usr/local/lib/python3.11/dist-packages (from pytest-xdist[psutil]==3.5.0->-r requirements.txt (line 20)) (5.9.5)\n",
      "Requirement already satisfied: nvidia-nvjitlink-cu12 in /usr/local/lib/python3.11/dist-packages (from nvidia-cusolver-cu12==11.4.5.107->torch==2.3.0->-r requirements.txt (line 24)) (12.5.82)\n",
      "Requirement already satisfied: aiohappyeyeballs>=2.3.0 in /usr/local/lib/python3.11/dist-packages (from aiohttp->datasets==2.19.2->-r requirements.txt (line 2)) (2.4.6)\n",
      "Requirement already satisfied: aiosignal>=1.1.2 in /usr/local/lib/python3.11/dist-packages (from aiohttp->datasets==2.19.2->-r requirements.txt (line 2)) (1.3.2)\n",
      "Requirement already satisfied: frozenlist>=1.1.1 in /usr/local/lib/python3.11/dist-packages (from aiohttp->datasets==2.19.2->-r requirements.txt (line 2)) (1.5.0)\n",
      "Requirement already satisfied: multidict<7.0,>=4.5 in /usr/local/lib/python3.11/dist-packages (from aiohttp->datasets==2.19.2->-r requirements.txt (line 2)) (6.1.0)\n",
      "Requirement already satisfied: propcache>=0.2.0 in /usr/local/lib/python3.11/dist-packages (from aiohttp->datasets==2.19.2->-r requirements.txt (line 2)) (0.3.0)\n",
      "Requirement already satisfied: yarl<2.0,>=1.17.0 in /usr/local/lib/python3.11/dist-packages (from aiohttp->datasets==2.19.2->-r requirements.txt (line 2)) (1.18.3)\n",
      "Requirement already satisfied: decorator in /usr/local/lib/python3.11/dist-packages (from mne>=1.5->mne-bids==0.15.0->-r requirements.txt (line 8)) (4.4.2)\n",
      "Requirement already satisfied: lazy-loader>=0.3 in /usr/local/lib/python3.11/dist-packages (from mne>=1.5->mne-bids==0.15.0->-r requirements.txt (line 8)) (0.4)\n",
      "Requirement already satisfied: matplotlib>=3.6 in /usr/local/lib/python3.11/dist-packages (from mne>=1.5->mne-bids==0.15.0->-r requirements.txt (line 8)) (3.10.0)\n",
      "Requirement already satisfied: pooch>=1.5 in /usr/local/lib/python3.11/dist-packages (from mne>=1.5->mne-bids==0.15.0->-r requirements.txt (line 8)) (1.8.2)\n",
      "Requirement already satisfied: six>=1.5 in /usr/local/lib/python3.11/dist-packages (from python-dateutil>=2.8.2->pandas==2.0.3->-r requirements.txt (line 12)) (1.17.0)\n",
      "Requirement already satisfied: charset-normalizer<4,>=2 in /usr/local/lib/python3.11/dist-packages (from requests>=2.32.1->datasets==2.19.2->-r requirements.txt (line 2)) (3.4.1)\n",
      "Requirement already satisfied: urllib3<3,>=1.21.1 in /usr/local/lib/python3.11/dist-packages (from requests>=2.32.1->datasets==2.19.2->-r requirements.txt (line 2)) (2.3.0)\n",
      "Requirement already satisfied: certifi>=2017.4.17 in /usr/local/lib/python3.11/dist-packages (from requests>=2.32.1->datasets==2.19.2->-r requirements.txt (line 2)) (2025.1.31)\n",
      "Requirement already satisfied: cloudpickle>=1.2.1 in /usr/local/lib/python3.11/dist-packages (from submitit>=1.3.3->hydra-submitit-launcher==1.2.0->-r requirements.txt (line 5)) (3.1.1)\n",
      "Requirement already satisfied: absl-py>=0.4 in /usr/local/lib/python3.11/dist-packages (from tensorboard>=2.9.1->lightning-bolts==0.7.0->-r requirements.txt (line 7)) (1.4.0)\n",
      "Requirement already satisfied: grpcio>=1.48.2 in /usr/local/lib/python3.11/dist-packages (from tensorboard>=2.9.1->lightning-bolts==0.7.0->-r requirements.txt (line 7)) (1.70.0)\n",
      "Requirement already satisfied: markdown>=2.6.8 in /usr/local/lib/python3.11/dist-packages (from tensorboard>=2.9.1->lightning-bolts==0.7.0->-r requirements.txt (line 7)) (3.7)\n",
      "Requirement already satisfied: protobuf!=4.24.0,>=3.19.6 in /usr/local/lib/python3.11/dist-packages (from tensorboard>=2.9.1->lightning-bolts==0.7.0->-r requirements.txt (line 7)) (4.25.6)\n",
      "Requirement already satisfied: tensorboard-data-server<0.8.0,>=0.7.0 in /usr/local/lib/python3.11/dist-packages (from tensorboard>=2.9.1->lightning-bolts==0.7.0->-r requirements.txt (line 7)) (0.7.2)\n",
      "Requirement already satisfied: werkzeug>=1.0.1 in /usr/local/lib/python3.11/dist-packages (from tensorboard>=2.9.1->lightning-bolts==0.7.0->-r requirements.txt (line 7)) (3.1.3)\n",
      "Requirement already satisfied: pillow!=8.3.*,>=5.3.0 in /usr/local/lib/python3.11/dist-packages (from torchvision>=0.10.0->lightning-bolts==0.7.0->-r requirements.txt (line 7)) (11.1.0)\n",
      "Requirement already satisfied: distlib<1,>=0.3.7 in /usr/local/lib/python3.11/dist-packages (from virtualenv>=20.10.0->pre-commit==3.7.1->-r requirements.txt (line 14)) (0.3.9)\n",
      "Requirement already satisfied: platformdirs<5,>=3.9.1 in /usr/local/lib/python3.11/dist-packages (from virtualenv>=20.10.0->pre-commit==3.7.1->-r requirements.txt (line 14)) (4.3.6)\n",
      "Requirement already satisfied: MarkupSafe>=2.0 in /usr/local/lib/python3.11/dist-packages (from jinja2->torch==2.3.0->-r requirements.txt (line 24)) (3.0.2)\n",
      "Requirement already satisfied: mpmath<1.4,>=1.1.0 in /usr/local/lib/python3.11/dist-packages (from sympy->torch==2.3.0->-r requirements.txt (line 24)) (1.3.0)\n",
      "Requirement already satisfied: contourpy>=1.0.1 in /usr/local/lib/python3.11/dist-packages (from matplotlib>=3.6->mne>=1.5->mne-bids==0.15.0->-r requirements.txt (line 8)) (1.3.1)\n",
      "Requirement already satisfied: cycler>=0.10 in /usr/local/lib/python3.11/dist-packages (from matplotlib>=3.6->mne>=1.5->mne-bids==0.15.0->-r requirements.txt (line 8)) (0.12.1)\n",
      "Requirement already satisfied: fonttools>=4.22.0 in /usr/local/lib/python3.11/dist-packages (from matplotlib>=3.6->mne>=1.5->mne-bids==0.15.0->-r requirements.txt (line 8)) (4.56.0)\n",
      "Requirement already satisfied: kiwisolver>=1.3.1 in /usr/local/lib/python3.11/dist-packages (from matplotlib>=3.6->mne>=1.5->mne-bids==0.15.0->-r requirements.txt (line 8)) (1.4.8)\n",
      "Requirement already satisfied: pyparsing>=2.3.1 in /usr/local/lib/python3.11/dist-packages (from matplotlib>=3.6->mne>=1.5->mne-bids==0.15.0->-r requirements.txt (line 8)) (3.2.1)\n"
     ]
    }
   ],
   "source": [
    "!pip install -r requirements.txt"
   ]
  },
  {
   "cell_type": "markdown",
   "metadata": {
    "id": "nSoRzGXCfUtz"
   },
   "source": [
    "### Step 4: Start your experiments!\n",
    "\n",
    "- Remember to download and copy the dataset to this directory: `Your_Dir/emg2qwerty/data`.\n",
    "- You may now start your experiments with any scripts! Below are examples of single-user training and testing (greedy decoding).\n",
    "- **There are two ways to track the logs:**,\n",
    "  - 1. Keep `--multirun`, and the logs will not be printed here, but they will be saved in the folder `logs`, e.g., `logs/2025-02-09/18-24-15/submitit_logs/`.\n",
    "  - 2. Comment out `--multirun` and the logs will be printed in this notebook, but they will not be saved."
   ]
  },
  {
   "cell_type": "markdown",
   "metadata": {},
   "source": [
    "#### Training\n",
    "- The checkpoints are saved in the folder `logs`, e.g., `logs/2025-02-09/18-24-15/checkpoints/`."
   ]
  },
  {
   "cell_type": "code",
   "execution_count": null,
   "metadata": {},
   "outputs": [],
   "source": [
    "# Single-user training\n",
    "!python -m emg2qwerty.train \\\n",
    "  user=\"single_user\" \\\n",
    "  trainer.accelerator=gpu trainer.devices=1 \\\n",
    "  # --multirun"
   ]
  },
  {
   "cell_type": "markdown",
   "metadata": {},
   "source": [
    "#### Testing:\n",
    "- Replace Your_Path_to_Checkpoint with your checkpoint path."
   ]
  },
  {
   "cell_type": "code",
   "execution_count": null,
   "metadata": {},
   "outputs": [],
   "source": [
    "# Single-user testing\n",
    "!python -m emg2qwerty.train \\\n",
    "  user=\"single_user\" \\\n",
    "  checkpoint=\"Your_Path_to_Checkpoint\" \\\n",
    "  train=False trainer.accelerator=gpu \\\n",
    "  decoder=ctc_greedy \\\n",
    "  hydra.launcher.mem_gb=64 \\\n",
    "  # --multirun"
   ]
  },
  {
   "cell_type": "code",
   "execution_count": null,
   "metadata": {
    "colab": {
     "base_uri": "https://localhost:8080/"
    },
    "executionInfo": {
     "elapsed": 3861851,
     "status": "ok",
     "timestamp": 1740637195042,
     "user": {
      "displayName": "Demetri Nicolaou",
      "userId": "06868073424147917136"
     },
     "user_tz": 480
    },
    "id": "n84M6KLmkp2i",
    "outputId": "731e11fa-15da-47b6-c5ee-af935194b458"
   },
   "outputs": [
    {
     "name": "stdout",
     "output_type": "stream",
     "text": [
      "2025-02-27 05:15:37.859337: I tensorflow/core/util/port.cc:153] oneDNN custom operations are on. You may see slightly different numerical results due to floating-point round-off errors from different computation orders. To turn them off, set the environment variable `TF_ENABLE_ONEDNN_OPTS=0`.\n",
      "2025-02-27 05:15:37.877819: E external/local_xla/xla/stream_executor/cuda/cuda_fft.cc:477] Unable to register cuFFT factory: Attempting to register factory for plugin cuFFT when one has already been registered\n",
      "WARNING: All log messages before absl::InitializeLog() is called are written to STDERR\n",
      "E0000 00:00:1740633337.900040   10405 cuda_dnn.cc:8310] Unable to register cuDNN factory: Attempting to register factory for plugin cuDNN when one has already been registered\n",
      "E0000 00:00:1740633337.906929   10405 cuda_blas.cc:1418] Unable to register cuBLAS factory: Attempting to register factory for plugin cuBLAS when one has already been registered\n",
      "2025-02-27 05:15:37.930016: I tensorflow/core/platform/cpu_feature_guard.cc:210] This TensorFlow binary is optimized to use available CPU instructions in performance-critical operations.\n",
      "To enable the following instructions: AVX2 AVX512F AVX512_VNNI FMA, in other operations, rebuild TensorFlow with the appropriate compiler flags.\n",
      "[2025-02-27 05:15:42,717][HYDRA] Submitit 'local' sweep output dir : logs/2025-02-27/05-15-42\n",
      "[2025-02-27 05:15:42,719][HYDRA] \t#0 : user=single_user trainer.accelerator=gpu trainer.devices=1 trainer.max_epochs=150\n"
     ]
    }
   ],
   "source": [
    "# Single-user training\n",
    "!python -m emg2qwerty.train \\\n",
    "  user=\"glob(single_user)\" \\\n",
    "  trainer.accelerator=gpu trainer.devices=1 trainer.max_epochs=150 \\\n",
    "  --multirun"
   ]
  }
 ],
 "metadata": {
  "accelerator": "GPU",
  "colab": {
   "gpuType": "A100",
   "machine_shape": "hm",
   "provenance": []
  },
  "kernelspec": {
   "display_name": "Python 3",
   "name": "python3"
  },
  "language_info": {
   "name": "python"
  }
 },
 "nbformat": 4,
 "nbformat_minor": 0
}
